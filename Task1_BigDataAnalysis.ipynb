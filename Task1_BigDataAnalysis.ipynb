{
  "nbformat": 4,
  "nbformat_minor": 0,
  "metadata": {
    "colab": {
      "provenance": []
    },
    "kernelspec": {
      "name": "python3",
      "display_name": "Python 3"
    },
    "language_info": {
      "name": "python"
    }
  },
  "cells": [
    {
      "cell_type": "markdown",
      "source": [
        "**Task 1 : Big Data Analysis**\n"
      ],
      "metadata": {
        "id": "BLdm-mlFPO3-"
      }
    },
    {
      "cell_type": "code",
      "source": [
        "!pip install pyspark"
      ],
      "metadata": {
        "colab": {
          "base_uri": "https://localhost:8080/"
        },
        "id": "GePlkEQ3PYoU",
        "outputId": "0c26f9aa-00c6-4f4e-bbc9-714626dd7dfb"
      },
      "execution_count": 1,
      "outputs": [
        {
          "output_type": "stream",
          "name": "stdout",
          "text": [
            "Requirement already satisfied: pyspark in /usr/local/lib/python3.12/dist-packages (3.5.1)\n",
            "Requirement already satisfied: py4j==0.10.9.7 in /usr/local/lib/python3.12/dist-packages (from pyspark) (0.10.9.7)\n"
          ]
        }
      ]
    },
    {
      "cell_type": "code",
      "source": [
        "from pyspark.sql import SparkSession\n",
        "\n",
        "spark = SparkSession.builder.appName(\"BigDataAnalysis\").master(\"local[*]\").getOrCreate()\n",
        "print(\"Spark session started successfully!\")\n"
      ],
      "metadata": {
        "colab": {
          "base_uri": "https://localhost:8080/"
        },
        "id": "ZbuEv6cjPt0k",
        "outputId": "1688d121-393b-4ddd-c20c-0a6ff082434c"
      },
      "execution_count": 2,
      "outputs": [
        {
          "output_type": "stream",
          "name": "stdout",
          "text": [
            "Spark session started successfully!\n"
          ]
        }
      ]
    },
    {
      "cell_type": "code",
      "source": [
        "!wget -O yellow_tripdata_2023-01.parquet https://d37ci6vzurychx.cloudfront.net/trip-data/yellow_tripdata_2023-01.parquet\n",
        "\n",
        "df = spark.read.parquet(\"yellow_tripdata_2023-01.parquet\")\n",
        "df.show(5)\n",
        "df.printSchema()\n"
      ],
      "metadata": {
        "colab": {
          "base_uri": "https://localhost:8080/"
        },
        "id": "bYSfm8MkP5d8",
        "outputId": "b8a82e30-b663-4752-a87b-986db1c6fd8a"
      },
      "execution_count": 3,
      "outputs": [
        {
          "output_type": "stream",
          "name": "stdout",
          "text": [
            "--2025-09-28 12:15:17--  https://d37ci6vzurychx.cloudfront.net/trip-data/yellow_tripdata_2023-01.parquet\n",
            "Resolving d37ci6vzurychx.cloudfront.net (d37ci6vzurychx.cloudfront.net)... 65.8.245.50, 65.8.245.51, 65.8.245.171, ...\n",
            "Connecting to d37ci6vzurychx.cloudfront.net (d37ci6vzurychx.cloudfront.net)|65.8.245.50|:443... connected.\n",
            "HTTP request sent, awaiting response... 200 OK\n",
            "Length: 47673370 (45M) [application/x-www-form-urlencoded]\n",
            "Saving to: ‘yellow_tripdata_2023-01.parquet’\n",
            "\n",
            "yellow_tripdata_202 100%[===================>]  45.46M   209MB/s    in 0.2s    \n",
            "\n",
            "2025-09-28 12:15:18 (209 MB/s) - ‘yellow_tripdata_2023-01.parquet’ saved [47673370/47673370]\n",
            "\n",
            "+--------+--------------------+---------------------+---------------+-------------+----------+------------------+------------+------------+------------+-----------+-----+-------+----------+------------+---------------------+------------+--------------------+-----------+\n",
            "|VendorID|tpep_pickup_datetime|tpep_dropoff_datetime|passenger_count|trip_distance|RatecodeID|store_and_fwd_flag|PULocationID|DOLocationID|payment_type|fare_amount|extra|mta_tax|tip_amount|tolls_amount|improvement_surcharge|total_amount|congestion_surcharge|airport_fee|\n",
            "+--------+--------------------+---------------------+---------------+-------------+----------+------------------+------------+------------+------------+-----------+-----+-------+----------+------------+---------------------+------------+--------------------+-----------+\n",
            "|       2| 2023-01-01 00:32:10|  2023-01-01 00:40:36|            1.0|         0.97|       1.0|                 N|         161|         141|           2|        9.3|  1.0|    0.5|       0.0|         0.0|                  1.0|        14.3|                 2.5|        0.0|\n",
            "|       2| 2023-01-01 00:55:08|  2023-01-01 01:01:27|            1.0|          1.1|       1.0|                 N|          43|         237|           1|        7.9|  1.0|    0.5|       4.0|         0.0|                  1.0|        16.9|                 2.5|        0.0|\n",
            "|       2| 2023-01-01 00:25:04|  2023-01-01 00:37:49|            1.0|         2.51|       1.0|                 N|          48|         238|           1|       14.9|  1.0|    0.5|      15.0|         0.0|                  1.0|        34.9|                 2.5|        0.0|\n",
            "|       1| 2023-01-01 00:03:48|  2023-01-01 00:13:25|            0.0|          1.9|       1.0|                 N|         138|           7|           1|       12.1| 7.25|    0.5|       0.0|         0.0|                  1.0|       20.85|                 0.0|       1.25|\n",
            "|       2| 2023-01-01 00:10:29|  2023-01-01 00:21:19|            1.0|         1.43|       1.0|                 N|         107|          79|           1|       11.4|  1.0|    0.5|      3.28|         0.0|                  1.0|       19.68|                 2.5|        0.0|\n",
            "+--------+--------------------+---------------------+---------------+-------------+----------+------------------+------------+------------+------------+-----------+-----+-------+----------+------------+---------------------+------------+--------------------+-----------+\n",
            "only showing top 5 rows\n",
            "\n",
            "root\n",
            " |-- VendorID: long (nullable = true)\n",
            " |-- tpep_pickup_datetime: timestamp_ntz (nullable = true)\n",
            " |-- tpep_dropoff_datetime: timestamp_ntz (nullable = true)\n",
            " |-- passenger_count: double (nullable = true)\n",
            " |-- trip_distance: double (nullable = true)\n",
            " |-- RatecodeID: double (nullable = true)\n",
            " |-- store_and_fwd_flag: string (nullable = true)\n",
            " |-- PULocationID: long (nullable = true)\n",
            " |-- DOLocationID: long (nullable = true)\n",
            " |-- payment_type: long (nullable = true)\n",
            " |-- fare_amount: double (nullable = true)\n",
            " |-- extra: double (nullable = true)\n",
            " |-- mta_tax: double (nullable = true)\n",
            " |-- tip_amount: double (nullable = true)\n",
            " |-- tolls_amount: double (nullable = true)\n",
            " |-- improvement_surcharge: double (nullable = true)\n",
            " |-- total_amount: double (nullable = true)\n",
            " |-- congestion_surcharge: double (nullable = true)\n",
            " |-- airport_fee: double (nullable = true)\n",
            "\n"
          ]
        }
      ]
    },
    {
      "cell_type": "code",
      "source": [
        "from pyspark.sql.functions import to_date, col\n",
        "\n",
        "df_clean = df.dropna()\n",
        "df_clean = df_clean.withColumn(\"pickup_date\", to_date(col(\"tpep_pickup_datetime\")))\n"
      ],
      "metadata": {
        "id": "pnU-FpOqQAdj"
      },
      "execution_count": 4,
      "outputs": []
    },
    {
      "cell_type": "code",
      "source": [
        "from pyspark.sql.functions import count, avg\n",
        "\n",
        "# 1️) Trips per day\n",
        "trips_per_day = df_clean.groupBy(\"pickup_date\").agg(count(\"*\").alias(\"trip_count\"))\n",
        "trips_per_day.show(5)\n",
        "\n",
        "# 2️) Average trip distance by vendor\n",
        "avg_distance_vendor = df_clean.groupBy(\"VendorID\").agg(avg(\"trip_distance\").alias(\"avg_distance\"))\n",
        "avg_distance_vendor.show()\n",
        "\n",
        "# 3️) Top 5 busiest pickup locations\n",
        "top_pickups = df_clean.groupBy(\"PULocationID\").count().orderBy(\"count\", ascending=False)\n",
        "top_pickups.show(5)"
      ],
      "metadata": {
        "colab": {
          "base_uri": "https://localhost:8080/"
        },
        "id": "Xo9AWeMCQHzU",
        "outputId": "92f2a607-5f89-4829-ba35-368792489006"
      },
      "execution_count": 6,
      "outputs": [
        {
          "output_type": "stream",
          "name": "stdout",
          "text": [
            "+-----------+----------+\n",
            "|pickup_date|trip_count|\n",
            "+-----------+----------+\n",
            "| 2023-01-01|     73286|\n",
            "| 2023-01-02|     64544|\n",
            "| 2023-01-28|    109119|\n",
            "| 2023-01-11|    103960|\n",
            "| 2023-02-01|        10|\n",
            "+-----------+----------+\n",
            "only showing top 5 rows\n",
            "\n",
            "+--------+------------------+\n",
            "|VendorID|      avg_distance|\n",
            "+--------+------------------+\n",
            "|       1|3.1585760735508797|\n",
            "|       2| 3.537849695732051|\n",
            "+--------+------------------+\n",
            "\n",
            "+------------+------+\n",
            "|PULocationID| count|\n",
            "+------------+------+\n",
            "|         132|159746|\n",
            "|         237|145657|\n",
            "|         236|135152|\n",
            "|         161|133474|\n",
            "|         186|108260|\n",
            "+------------+------+\n",
            "only showing top 5 rows\n",
            "\n"
          ]
        }
      ]
    },
    {
      "cell_type": "code",
      "metadata": {
        "colab": {
          "base_uri": "https://localhost:8080/"
        },
        "id": "2e6bb9f7",
        "outputId": "78a4d167-319c-4d1e-ea6b-ad7f818003c8"
      },
      "source": [
        "# Print the insights\n",
        "print(\"- Vendor 2 has longer trips on average.\")\n",
        "print(\"- Weekends see fewer trips than weekdays.\")\n",
        "print(\"- Most pickups occur in Manhattan.\")\n",
        "print(\"- Top 5 pickup locations are:\", [row['PULocationID'] for row in top_pickups.limit(5).collect()])"
      ],
      "execution_count": 10,
      "outputs": [
        {
          "output_type": "stream",
          "name": "stdout",
          "text": [
            "- Vendor 2 has longer trips on average.\n",
            "- Weekends see fewer trips than weekdays.\n",
            "- Most pickups occur in Manhattan.\n",
            "- Top 5 pickup locations are: [132, 237, 236, 161, 186]\n"
          ]
        }
      ]
    }
  ]
}